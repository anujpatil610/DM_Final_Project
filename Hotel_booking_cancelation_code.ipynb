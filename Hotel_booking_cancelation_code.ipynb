{
 "cells": [
  {
   "cell_type": "markdown",
   "metadata": {},
   "source": [
    "Data Loading and Initial Exploration"
   ]
  },
  {
   "cell_type": "code",
   "execution_count": null,
   "metadata": {},
   "outputs": [],
   "source": [
    "import pandas as pd\n",
    "\n",
    "# Load the data\n",
    "df = pd.read_csv('hotel_bookings.csv')\n",
    "\n",
    "# Print the shape and datatypes of the dataframe\n",
    "print(df.shape)\n",
    "print(df.dtypes)\n",
    "\n",
    "# Calculate the cancellation rate\n",
    "cancel_rate = df['is_canceled'].mean() * 100\n",
    "print(f\"Cancellation Rate: {cancel_rate}%\")\n",
    "\n",
    "# Check for null values\n",
    "print(df.isnull().sum())\n",
    "\n",
    "# Remove duplicates\n",
    "df.drop_duplicates(inplace=True)\n"
   ]
  },
  {
   "cell_type": "markdown",
   "metadata": {},
   "source": [
    "Exploratory Data Analysis"
   ]
  },
  {
   "cell_type": "code",
   "execution_count": null,
   "metadata": {},
   "outputs": [],
   "source": [
    "import seaborn as sns\n",
    "import matplotlib.pyplot as plt\n",
    "\n",
    "# Check the distribution of cancellations\n",
    "sns.countplot(data=df, x='is_canceled')\n",
    "plt.title('Distribution of Cancellations')\n",
    "plt.show()\n",
    "\n",
    "# Separate numerical and categorical columns\n",
    "num_cols = df.select_dtypes(include=['int64', 'float64']).columns\n",
    "cat_cols = df.select_dtypes(include=['object']).columns\n"
   ]
  },
  {
   "cell_type": "markdown",
   "metadata": {},
   "source": [
    "Feature Selection"
   ]
  },
  {
   "cell_type": "code",
   "execution_count": null,
   "metadata": {},
   "outputs": [],
   "source": [
    "from scipy.stats import chi2_contingency\n",
    "\n",
    "# Perform Chi-Square test for independence between categorical variables and cancellations\n",
    "chi2_results = {}\n",
    "for col in cat_cols:\n",
    "    crosstab = pd.crosstab(df[col], df['is_canceled'])\n",
    "    chi2_test_results = chi2_contingency(crosstab)\n",
    "    chi2_results[col] = chi2_test_results[1]  # Store the p-value\n",
    "\n",
    "# Correlation of numerical features with cancellations\n",
    "corr = df.corr()\n",
    "cancellation_corr = corr['is_canceled'].sort_values()\n",
    "print(cancellation_corr)\n"
   ]
  },
  {
   "cell_type": "markdown",
   "metadata": {},
   "source": [
    "Data Visualization"
   ]
  },
  {
   "cell_type": "code",
   "execution_count": null,
   "metadata": {},
   "outputs": [],
   "source": [
    "# Visualizing Distributions of numerical and categorical variables\n",
    "sns.countplot(data=df, x='is_canceled')\n",
    "plt.show()\n",
    "\n",
    "sns.countplot(data=df, x='hotel')\n",
    "plt.show()\n",
    "\n",
    "sns.countplot(data=df, x='hotel', hue='is_canceled')\n",
    "plt.show()\n",
    "\n",
    "sns.countplot(data=df, x='deposit_type', hue='is_canceled')\n",
    "plt.show()\n",
    "\n",
    "sns.countplot(data=df, x='customer_type', hue='is_canceled')\n",
    "plt.show()\n",
    "\n",
    "sns.countplot(data=df, x='meal', hue='is_canceled')\n",
    "plt.show()\n",
    "\n",
    "sns.countplot(data=df, x='market_segment', hue='is_canceled')\n",
    "plt.xticks(rotation=45)\n",
    "plt.show()\n"
   ]
  },
  {
   "cell_type": "markdown",
   "metadata": {},
   "source": [
    "Model Building and Evaluation"
   ]
  },
  {
   "cell_type": "code",
   "execution_count": null,
   "metadata": {},
   "outputs": [],
   "source": [
    "from sklearn.model_selection import train_test_split\n",
    "from sklearn.preprocessing import StandardScaler, OneHotEncoder\n",
    "from sklearn.compose import ColumnTransformer\n",
    "from catboost import CatBoostClassifier\n",
    "from sklearn.metrics import accuracy_score\n",
    "\n",
    "# Selected features\n",
    "selected_features = ['lead_time', 'previous_cancellations', 'adults', 'days_in_waiting_list',\n",
    "                     'previous_bookings_not_canceled', 'is_repeated_guest', 'booking_changes',\n",
    "                     'required_car_parking_spaces', 'total_of_special_requests', 'hotel', 'country',\n",
    "                     'market_segment', 'distribution_channel', 'assigned_room_type', 'deposit_type',\n",
    "                     'customer_type', 'reservation_status_date', 'reserved_room_type', 'meal']\n",
    "\n",
    "# Preprocess the data\n",
    "X = df[selected_features]\n",
    "y = df['is_canceled']\n",
    "\n",
    "# Split the data\n",
    "X_train, X_test, y_train, y_test = train_test_split(X, y, test_size=0.2, random_state=42)\n",
    "\n",
    "# Initialize CatBoostClassifier\n",
    "model = CatBoostClassifier(random_seed=42, verbose=False)\n",
    "\n",
    "# Fit model\n",
    "model.fit(X_train, y_train)\n",
    "\n",
    "# Make predictions on the test set\n",
    "y_pred = model.predict(X_test)\n",
    "\n",
    "# Compute accuracy\n",
    "accuracy = accuracy_score(y_test, y_pred)\n",
    "print('Accuracy:', accuracy)\n"
   ]
  },
  {
   "cell_type": "markdown",
   "metadata": {},
   "source": [
    "Hyperparameter Tuning"
   ]
  },
  {
   "cell_type": "code",
   "execution_count": null,
   "metadata": {},
   "outputs": [],
   "source": [
    "from sklearn.model_selection import RandomizedSearchCV\n",
    "from scipy.stats import randint\n",
    "\n",
    "# Define the parameter distribution\n",
    "param_dist = {\n",
    "    'depth': randint(4, 10),\n",
    "    'learning_rate': [0.01, 0.05, 0.1],\n",
    "    'iterations': randint(100, 1000)\n",
    "}\n",
    "\n",
    "# Initialize a CatBoostClassifier\n",
    "model = CatBoostClassifier(random_seed=42, verbose=False)\n",
    "\n",
    "# Initialize RandomizedSearchCV\n",
    "random_search = RandomizedSearchCV(model, param_dist, n_iter=10, cv=3, scoring='accuracy', verbose=2, n_jobs=-1, random_state=42)\n",
    "\n",
    "# Fit RandomizedSearchCV\n",
    "random_search.fit(X_train, y_train)\n",
    "\n",
    "# Print the best parameters and the best score\n",
    "print('Best parameters:', random_search.best_params_)\n",
    "print('Best score:', random_search.best_score_)\n",
    "\n",
    "# Use the best model to make predictions\n",
    "best_model = random_search.best_estimator_\n",
    "y_pred = best_model.predict(X_test)\n",
    "\n",
    "# Compute accuracy\n",
    "accuracy = accuracy_score(y_test, y_pred)\n",
    "print('Accuracy:', accuracy)\n"
   ]
  },
  {
   "cell_type": "markdown",
   "metadata": {},
   "source": [
    "Feature Importance"
   ]
  },
  {
   "cell_type": "code",
   "execution_count": null,
   "metadata": {},
   "outputs": [],
   "source": [
    "# Get feature importance\n",
    "feature_importances = best_model.get_feature_importance()\n",
    "\n",
    "# Create a DataFrame for feature importances\n",
    "feature_importances_df = pd.DataFrame({'feature': selected_features, 'importance': feature_importances})\n",
    "\n",
    "# Sort by importance\n",
    "feature_importances_df = feature_importances_df.sort_values('importance', ascending=False)\n",
    "\n",
    "# Display\n",
    "print(feature_importances_df)\n"
   ]
  },
  {
   "cell_type": "markdown",
   "metadata": {},
   "source": [
    "ROC Curve"
   ]
  },
  {
   "cell_type": "code",
   "execution_count": null,
   "metadata": {},
   "outputs": [],
   "source": [
    "from sklearn.metrics import roc_curve, roc_auc_score\n",
    "\n",
    "# Getting the probabilities of our predictions\n",
    "y_scores = best_model.predict_proba(X_test)\n",
    "y_scores = y_scores[:,1]\n",
    "\n",
    "# Compute ROC curve\n",
    "false_positive_rate, true_positive_rate, threshold = roc_curve(y_test, y_scores)\n",
    "\n",
    "# Compute ROC AUC\n",
    "roc_auc = roc_auc_score(y_test, y_scores)\n",
    "\n",
    "# Plotting ROC Curve\n",
    "plt.figure(figsize=(10,6))\n",
    "plt.title('Receiver Operating Characteristic')\n",
    "plt.plot(false_positive_rate, true_positive_rate, 'b', label = 'AUC = %0.2f' % roc_auc)\n",
    "plt.legend(loc = 'lower right')\n",
    "plt.plot([0, 1], [0, 1],'r--')\n",
    "plt.xlim([0, 1])\n",
    "plt.ylim([0, 1])\n",
    "plt.ylabel('True Positive Rate')\n",
    "plt.xlabel('False Positive Rate')\n",
    "plt.show()\n"
   ]
  }
 ],
 "metadata": {
  "language_info": {
   "name": "python"
  },
  "orig_nbformat": 4
 },
 "nbformat": 4,
 "nbformat_minor": 2
}
